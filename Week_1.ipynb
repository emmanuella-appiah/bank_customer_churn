{
 "cells": [
  {
   "cell_type": "markdown",
   "id": "2a11c1c4-1ad0-4212-8eed-1fdc66515416",
   "metadata": {},
   "source": [
    "## Import Necessary Libraries"
   ]
  },
  {
   "cell_type": "code",
   "execution_count": 1,
   "id": "f2d39565-7c4f-408b-bf7a-611720250702",
   "metadata": {},
   "outputs": [],
   "source": [
    "import pandas as pd\n",
    "import seaborn as sns\n",
    "import matplotlib.pyplot as plt\n",
    "import numpy as np\n",
    "%matplotlib inline\n",
    "\n",
    "from sklearn.datasets import fetch_california_housing\n",
    "\n",
    "from sklearn.model_selection import train_test_split\n",
    "from sklearn.metrics import r2_score, mean_squared_error\n",
    "from sklearn.pipeline import Pipeline\n",
    "\n",
    "from sklearn.preprocessing import StandardScaler\n",
    "from sklearn.tree import DecisionTreeRegressor"
   ]
  },
  {
   "cell_type": "markdown",
   "id": "dcdb2128-f8a5-4c8e-912a-70c0eed63365",
   "metadata": {},
   "source": [
    "## Loading California Dataset\n",
    "1. MedInc: Median income in the block group\n",
    "2. HouseAge: Median house age in block group\n",
    "3. AveRooms: Average number of rooms per household\n",
    "4. AveBedrms: Average number of bedrooms per household\n",
    "5. Population: Block group population\n",
    "6. AveOccup: Average number of household members\n",
    "7. Latitude: Block group latitude\n",
    "8. Longitude: Block group longitude"
   ]
  },
  {
   "cell_type": "code",
   "execution_count": 2,
   "id": "880b9540-27d6-46ba-86f2-745eca6a67b5",
   "metadata": {},
   "outputs": [],
   "source": [
    "california = fetch_california_housing()\n",
    "\n",
    "X = pd.DataFrame(california.data, columns=california.feature_names)\n",
    "y = pd.DataFrame(california.target, columns=['Median_House_Value'])\n",
    "df = pd.concat([X, y], axis=1)"
   ]
  },
  {
   "cell_type": "markdown",
   "id": "2bc61374-a805-4c08-abb0-958b7efb7e7a",
   "metadata": {},
   "source": [
    "## Exploratory Data Analysis (EDA)"
   ]
  },
  {
   "cell_type": "code",
   "execution_count": 3,
   "id": "771d30e8-8a7e-4b42-abe5-a0fda98cb43b",
   "metadata": {},
   "outputs": [
    {
     "data": {
      "text/html": [
       "<div>\n",
       "<style scoped>\n",
       "    .dataframe tbody tr th:only-of-type {\n",
       "        vertical-align: middle;\n",
       "    }\n",
       "\n",
       "    .dataframe tbody tr th {\n",
       "        vertical-align: top;\n",
       "    }\n",
       "\n",
       "    .dataframe thead th {\n",
       "        text-align: right;\n",
       "    }\n",
       "</style>\n",
       "<table border=\"1\" class=\"dataframe\">\n",
       "  <thead>\n",
       "    <tr style=\"text-align: right;\">\n",
       "      <th></th>\n",
       "      <th>MedInc</th>\n",
       "      <th>HouseAge</th>\n",
       "      <th>AveRooms</th>\n",
       "      <th>AveBedrms</th>\n",
       "      <th>Population</th>\n",
       "      <th>AveOccup</th>\n",
       "      <th>Latitude</th>\n",
       "      <th>Longitude</th>\n",
       "      <th>Median_House_Value</th>\n",
       "    </tr>\n",
       "  </thead>\n",
       "  <tbody>\n",
       "    <tr>\n",
       "      <th>0</th>\n",
       "      <td>8.3252</td>\n",
       "      <td>41.0</td>\n",
       "      <td>6.984127</td>\n",
       "      <td>1.023810</td>\n",
       "      <td>322.0</td>\n",
       "      <td>2.555556</td>\n",
       "      <td>37.88</td>\n",
       "      <td>-122.23</td>\n",
       "      <td>4.526</td>\n",
       "    </tr>\n",
       "    <tr>\n",
       "      <th>1</th>\n",
       "      <td>8.3014</td>\n",
       "      <td>21.0</td>\n",
       "      <td>6.238137</td>\n",
       "      <td>0.971880</td>\n",
       "      <td>2401.0</td>\n",
       "      <td>2.109842</td>\n",
       "      <td>37.86</td>\n",
       "      <td>-122.22</td>\n",
       "      <td>3.585</td>\n",
       "    </tr>\n",
       "    <tr>\n",
       "      <th>2</th>\n",
       "      <td>7.2574</td>\n",
       "      <td>52.0</td>\n",
       "      <td>8.288136</td>\n",
       "      <td>1.073446</td>\n",
       "      <td>496.0</td>\n",
       "      <td>2.802260</td>\n",
       "      <td>37.85</td>\n",
       "      <td>-122.24</td>\n",
       "      <td>3.521</td>\n",
       "    </tr>\n",
       "  </tbody>\n",
       "</table>\n",
       "</div>"
      ],
      "text/plain": [
       "   MedInc  HouseAge  AveRooms  AveBedrms  Population  AveOccup  Latitude  \\\n",
       "0  8.3252      41.0  6.984127   1.023810       322.0  2.555556     37.88   \n",
       "1  8.3014      21.0  6.238137   0.971880      2401.0  2.109842     37.86   \n",
       "2  7.2574      52.0  8.288136   1.073446       496.0  2.802260     37.85   \n",
       "\n",
       "   Longitude  Median_House_Value  \n",
       "0    -122.23               4.526  \n",
       "1    -122.22               3.585  \n",
       "2    -122.24               3.521  "
      ]
     },
     "execution_count": 3,
     "metadata": {},
     "output_type": "execute_result"
    }
   ],
   "source": [
    "df.head(3)"
   ]
  },
  {
   "cell_type": "code",
   "execution_count": 4,
   "id": "29731390-ddf8-4389-9d77-cc09afe4452e",
   "metadata": {},
   "outputs": [
    {
     "data": {
      "text/html": [
       "<div>\n",
       "<style scoped>\n",
       "    .dataframe tbody tr th:only-of-type {\n",
       "        vertical-align: middle;\n",
       "    }\n",
       "\n",
       "    .dataframe tbody tr th {\n",
       "        vertical-align: top;\n",
       "    }\n",
       "\n",
       "    .dataframe thead th {\n",
       "        text-align: right;\n",
       "    }\n",
       "</style>\n",
       "<table border=\"1\" class=\"dataframe\">\n",
       "  <thead>\n",
       "    <tr style=\"text-align: right;\">\n",
       "      <th></th>\n",
       "      <th>MedInc</th>\n",
       "      <th>HouseAge</th>\n",
       "      <th>AveRooms</th>\n",
       "      <th>AveBedrms</th>\n",
       "      <th>Population</th>\n",
       "      <th>AveOccup</th>\n",
       "      <th>Latitude</th>\n",
       "      <th>Longitude</th>\n",
       "      <th>Median_House_Value</th>\n",
       "    </tr>\n",
       "  </thead>\n",
       "  <tbody>\n",
       "    <tr>\n",
       "      <th>count</th>\n",
       "      <td>20640.000000</td>\n",
       "      <td>20640.000000</td>\n",
       "      <td>20640.000000</td>\n",
       "      <td>20640.000000</td>\n",
       "      <td>20640.000000</td>\n",
       "      <td>20640.000000</td>\n",
       "      <td>20640.000000</td>\n",
       "      <td>20640.000000</td>\n",
       "      <td>20640.000000</td>\n",
       "    </tr>\n",
       "    <tr>\n",
       "      <th>mean</th>\n",
       "      <td>3.870671</td>\n",
       "      <td>28.639486</td>\n",
       "      <td>5.429000</td>\n",
       "      <td>1.096675</td>\n",
       "      <td>1425.476744</td>\n",
       "      <td>3.070655</td>\n",
       "      <td>35.631861</td>\n",
       "      <td>-119.569704</td>\n",
       "      <td>2.068558</td>\n",
       "    </tr>\n",
       "    <tr>\n",
       "      <th>std</th>\n",
       "      <td>1.899822</td>\n",
       "      <td>12.585558</td>\n",
       "      <td>2.474173</td>\n",
       "      <td>0.473911</td>\n",
       "      <td>1132.462122</td>\n",
       "      <td>10.386050</td>\n",
       "      <td>2.135952</td>\n",
       "      <td>2.003532</td>\n",
       "      <td>1.153956</td>\n",
       "    </tr>\n",
       "    <tr>\n",
       "      <th>min</th>\n",
       "      <td>0.499900</td>\n",
       "      <td>1.000000</td>\n",
       "      <td>0.846154</td>\n",
       "      <td>0.333333</td>\n",
       "      <td>3.000000</td>\n",
       "      <td>0.692308</td>\n",
       "      <td>32.540000</td>\n",
       "      <td>-124.350000</td>\n",
       "      <td>0.149990</td>\n",
       "    </tr>\n",
       "    <tr>\n",
       "      <th>25%</th>\n",
       "      <td>2.563400</td>\n",
       "      <td>18.000000</td>\n",
       "      <td>4.440716</td>\n",
       "      <td>1.006079</td>\n",
       "      <td>787.000000</td>\n",
       "      <td>2.429741</td>\n",
       "      <td>33.930000</td>\n",
       "      <td>-121.800000</td>\n",
       "      <td>1.196000</td>\n",
       "    </tr>\n",
       "    <tr>\n",
       "      <th>50%</th>\n",
       "      <td>3.534800</td>\n",
       "      <td>29.000000</td>\n",
       "      <td>5.229129</td>\n",
       "      <td>1.048780</td>\n",
       "      <td>1166.000000</td>\n",
       "      <td>2.818116</td>\n",
       "      <td>34.260000</td>\n",
       "      <td>-118.490000</td>\n",
       "      <td>1.797000</td>\n",
       "    </tr>\n",
       "    <tr>\n",
       "      <th>75%</th>\n",
       "      <td>4.743250</td>\n",
       "      <td>37.000000</td>\n",
       "      <td>6.052381</td>\n",
       "      <td>1.099526</td>\n",
       "      <td>1725.000000</td>\n",
       "      <td>3.282261</td>\n",
       "      <td>37.710000</td>\n",
       "      <td>-118.010000</td>\n",
       "      <td>2.647250</td>\n",
       "    </tr>\n",
       "    <tr>\n",
       "      <th>max</th>\n",
       "      <td>15.000100</td>\n",
       "      <td>52.000000</td>\n",
       "      <td>141.909091</td>\n",
       "      <td>34.066667</td>\n",
       "      <td>35682.000000</td>\n",
       "      <td>1243.333333</td>\n",
       "      <td>41.950000</td>\n",
       "      <td>-114.310000</td>\n",
       "      <td>5.000010</td>\n",
       "    </tr>\n",
       "  </tbody>\n",
       "</table>\n",
       "</div>"
      ],
      "text/plain": [
       "             MedInc      HouseAge      AveRooms     AveBedrms    Population  \\\n",
       "count  20640.000000  20640.000000  20640.000000  20640.000000  20640.000000   \n",
       "mean       3.870671     28.639486      5.429000      1.096675   1425.476744   \n",
       "std        1.899822     12.585558      2.474173      0.473911   1132.462122   \n",
       "min        0.499900      1.000000      0.846154      0.333333      3.000000   \n",
       "25%        2.563400     18.000000      4.440716      1.006079    787.000000   \n",
       "50%        3.534800     29.000000      5.229129      1.048780   1166.000000   \n",
       "75%        4.743250     37.000000      6.052381      1.099526   1725.000000   \n",
       "max       15.000100     52.000000    141.909091     34.066667  35682.000000   \n",
       "\n",
       "           AveOccup      Latitude     Longitude  Median_House_Value  \n",
       "count  20640.000000  20640.000000  20640.000000        20640.000000  \n",
       "mean       3.070655     35.631861   -119.569704            2.068558  \n",
       "std       10.386050      2.135952      2.003532            1.153956  \n",
       "min        0.692308     32.540000   -124.350000            0.149990  \n",
       "25%        2.429741     33.930000   -121.800000            1.196000  \n",
       "50%        2.818116     34.260000   -118.490000            1.797000  \n",
       "75%        3.282261     37.710000   -118.010000            2.647250  \n",
       "max     1243.333333     41.950000   -114.310000            5.000010  "
      ]
     },
     "execution_count": 4,
     "metadata": {},
     "output_type": "execute_result"
    }
   ],
   "source": [
    "df.describe()"
   ]
  },
  {
   "cell_type": "code",
   "execution_count": 5,
   "id": "4efdaf66-4fc2-4cf7-8f87-1c085b934e32",
   "metadata": {},
   "outputs": [
    {
     "name": "stdout",
     "output_type": "stream",
     "text": [
      "<class 'pandas.core.frame.DataFrame'>\n",
      "RangeIndex: 20640 entries, 0 to 20639\n",
      "Data columns (total 9 columns):\n",
      " #   Column              Non-Null Count  Dtype  \n",
      "---  ------              --------------  -----  \n",
      " 0   MedInc              20640 non-null  float64\n",
      " 1   HouseAge            20640 non-null  float64\n",
      " 2   AveRooms            20640 non-null  float64\n",
      " 3   AveBedrms           20640 non-null  float64\n",
      " 4   Population          20640 non-null  float64\n",
      " 5   AveOccup            20640 non-null  float64\n",
      " 6   Latitude            20640 non-null  float64\n",
      " 7   Longitude           20640 non-null  float64\n",
      " 8   Median_House_Value  20640 non-null  float64\n",
      "dtypes: float64(9)\n",
      "memory usage: 1.4 MB\n"
     ]
    }
   ],
   "source": [
    "df.info()"
   ]
  },
  {
   "cell_type": "markdown",
   "id": "87524629-d3d3-462d-bafa-a035eedd8523",
   "metadata": {},
   "source": [
    "**Check for missing values**"
   ]
  },
  {
   "cell_type": "code",
   "execution_count": 6,
   "id": "41628fe0-b22f-4342-aa66-9d42d01b36ff",
   "metadata": {},
   "outputs": [
    {
     "data": {
      "text/plain": [
       "MedInc                False\n",
       "HouseAge              False\n",
       "AveRooms              False\n",
       "AveBedrms             False\n",
       "Population            False\n",
       "AveOccup              False\n",
       "Latitude              False\n",
       "Longitude             False\n",
       "Median_House_Value    False\n",
       "dtype: bool"
      ]
     },
     "execution_count": 6,
     "metadata": {},
     "output_type": "execute_result"
    }
   ],
   "source": [
    "df.isna().any()"
   ]
  },
  {
   "cell_type": "markdown",
   "id": "82fc012e-6fd1-4cfe-bcc7-f296e92ac8b4",
   "metadata": {},
   "source": [
    "**Check for duplicated values**"
   ]
  },
  {
   "cell_type": "code",
   "execution_count": 7,
   "id": "2f127060-e585-4d6b-9905-fa0dc0f22268",
   "metadata": {},
   "outputs": [
    {
     "data": {
      "text/plain": [
       "False"
      ]
     },
     "execution_count": 7,
     "metadata": {},
     "output_type": "execute_result"
    }
   ],
   "source": [
    "df.duplicated().any()"
   ]
  },
  {
   "cell_type": "code",
   "execution_count": 8,
   "id": "0d9d8bd9-1ec9-44b3-91ca-fe7714666a21",
   "metadata": {},
   "outputs": [
    {
     "name": "stdout",
     "output_type": "stream",
     "text": [
      "Value counts for MedInc:\n",
      "MedInc\n",
      "3.1250     49\n",
      "15.0001    49\n",
      "2.8750     46\n",
      "2.6250     44\n",
      "4.1250     44\n",
      "           ..\n",
      "4.0774      1\n",
      "4.1767      1\n",
      "6.1814      1\n",
      "6.4319      1\n",
      "2.0943      1\n",
      "Name: count, Length: 12928, dtype: int64\n",
      "\n",
      "\n",
      "Value counts for HouseAge:\n",
      "HouseAge\n",
      "52.0    1273\n",
      "36.0     862\n",
      "35.0     824\n",
      "16.0     771\n",
      "17.0     698\n",
      "34.0     689\n",
      "26.0     619\n",
      "33.0     615\n",
      "18.0     570\n",
      "25.0     566\n",
      "32.0     565\n",
      "37.0     537\n",
      "15.0     512\n",
      "19.0     502\n",
      "27.0     488\n",
      "24.0     478\n",
      "30.0     476\n",
      "28.0     471\n",
      "20.0     465\n",
      "29.0     461\n",
      "31.0     458\n",
      "23.0     448\n",
      "21.0     446\n",
      "14.0     412\n",
      "22.0     399\n",
      "38.0     394\n",
      "39.0     369\n",
      "42.0     368\n",
      "44.0     356\n",
      "43.0     353\n",
      "40.0     304\n",
      "13.0     302\n",
      "41.0     296\n",
      "45.0     294\n",
      "10.0     264\n",
      "11.0     254\n",
      "46.0     245\n",
      "5.0      244\n",
      "12.0     238\n",
      "8.0      206\n",
      "9.0      205\n",
      "47.0     198\n",
      "4.0      191\n",
      "48.0     177\n",
      "7.0      175\n",
      "6.0      160\n",
      "50.0     136\n",
      "49.0     134\n",
      "3.0       62\n",
      "2.0       58\n",
      "51.0      48\n",
      "1.0        4\n",
      "Name: count, dtype: int64\n",
      "\n",
      "\n",
      "Value counts for AveRooms:\n",
      "AveRooms\n",
      "5.000000    27\n",
      "4.500000    22\n",
      "4.000000    21\n",
      "6.000000    20\n",
      "5.333333    13\n",
      "            ..\n",
      "3.532286     1\n",
      "4.793919     1\n",
      "4.964602     1\n",
      "4.539088     1\n",
      "5.254717     1\n",
      "Name: count, Length: 19392, dtype: int64\n",
      "\n",
      "\n",
      "Value counts for AveBedrms:\n",
      "AveBedrms\n",
      "1.000000    288\n",
      "1.125000     29\n",
      "1.058824     26\n",
      "1.100000     25\n",
      "1.083333     25\n",
      "           ... \n",
      "0.932886      1\n",
      "0.906883      1\n",
      "1.164894      1\n",
      "1.030853      1\n",
      "1.162264      1\n",
      "Name: count, Length: 14233, dtype: int64\n",
      "\n",
      "\n",
      "Value counts for Population:\n",
      "Population\n",
      "891.0     25\n",
      "761.0     24\n",
      "1227.0    24\n",
      "1052.0    24\n",
      "850.0     24\n",
      "          ..\n",
      "2141.0     1\n",
      "5546.0     1\n",
      "3186.0     1\n",
      "3590.0     1\n",
      "6912.0     1\n",
      "Name: count, Length: 3888, dtype: int64\n",
      "\n",
      "\n",
      "Value counts for AveOccup:\n",
      "AveOccup\n",
      "3.000000    35\n",
      "2.000000    18\n",
      "2.500000    17\n",
      "2.666667    16\n",
      "2.333333    13\n",
      "            ..\n",
      "2.425926     1\n",
      "2.942568     1\n",
      "2.816254     1\n",
      "2.837104     1\n",
      "2.616981     1\n",
      "Name: count, Length: 18841, dtype: int64\n",
      "\n",
      "\n",
      "Value counts for Latitude:\n",
      "Latitude\n",
      "34.06    244\n",
      "34.05    236\n",
      "34.08    234\n",
      "34.07    231\n",
      "34.04    221\n",
      "        ... \n",
      "41.01      1\n",
      "41.36      1\n",
      "41.13      1\n",
      "40.30      1\n",
      "35.88      1\n",
      "Name: count, Length: 862, dtype: int64\n",
      "\n",
      "\n",
      "Value counts for Longitude:\n",
      "Longitude\n",
      "-118.31    162\n",
      "-118.30    160\n",
      "-118.29    148\n",
      "-118.27    144\n",
      "-118.32    142\n",
      "          ... \n",
      "-123.54      1\n",
      "-115.94      1\n",
      "-115.99      1\n",
      "-116.81      1\n",
      "-123.71      1\n",
      "Name: count, Length: 844, dtype: int64\n",
      "\n",
      "\n",
      "Value counts for Median_House_Value:\n",
      "Median_House_Value\n",
      "5.00001    965\n",
      "1.37500    122\n",
      "1.62500    117\n",
      "1.12500    103\n",
      "1.87500     93\n",
      "          ... \n",
      "3.59200      1\n",
      "0.54900      1\n",
      "3.77600      1\n",
      "0.81200      1\n",
      "0.47000      1\n",
      "Name: count, Length: 3842, dtype: int64\n",
      "\n",
      "\n"
     ]
    }
   ],
   "source": [
    "for column in df.columns:\n",
    "    print(f\"Value counts for {column}:\")\n",
    "    print(df[column].value_counts())\n",
    "    print(\"\\n\")\n"
   ]
  },
  {
   "cell_type": "code",
   "execution_count": 9,
   "id": "d4b68b81-a39c-4090-a817-9acb54ebb60d",
   "metadata": {},
   "outputs": [
    {
     "data": {
      "image/png": "[encoded data removed]",
      "text/plain": [
       "<Figure size 800x600 with 2 Axes>"
      ]
     },
     "metadata": {},
     "output_type": "display_data"
    }
   ],
   "source": [
    "df_corr = df.corr()\n",
    "plt.figure(figsize=(8, 6))\n",
    "sns.heatmap(data=df_corr, cmap='viridis',annot=True,fmt='.2f',linewidths=0.5,linecolor='black')\n",
    "plt.title('Correlation Matrix Heatmap', fontsize=16)\n",
    "plt.tight_layout()"
   ]
  },
  {
   "cell_type": "markdown",
   "id": "da156b2e-19d2-4b81-8d17-c62569d9ead6",
   "metadata": {},
   "source": [
    "## Train-Test Split"
   ]
  },
  {
   "cell_type": "code",
   "execution_count": 10,
   "id": "57459adf-96bc-4697-b0d7-cbc32c276cf6",
   "metadata": {},
   "outputs": [],
   "source": [
    "X_train, X_test, y_train, y_test = train_test_split(X, y, test_size=0.2, random_state=42)"
   ]
  },
  {
   "cell_type": "markdown",
   "id": "3642ba1c-cb06-48c8-a422-2cfbe49f6551",
   "metadata": {},
   "source": [
    "## Model Training with Pipeline"
   ]
  },
  {
   "cell_type": "code",
   "execution_count": 11,
   "id": "a6982ee9-e405-4846-abc0-9172799ba28e",
   "metadata": {},
   "outputs": [],
   "source": [
    "dt_pipeline = Pipeline([\n",
    "    ('regressor', DecisionTreeRegressor(max_depth=9, random_state=42)),\n",
    "])\n",
    "\n",
    "dt_pipeline.fit(X_train, y_train.values.ravel())\n",
    "dt_y_pred = dt_pipeline.predict(X_test)"
   ]
  },
  {
   "cell_type": "markdown",
   "id": "5758c1f7-cc3f-4fc1-84c7-bb39f00400b1",
   "metadata": {},
   "source": [
    "## Model Evaluation"
   ]
  },
  {
   "cell_type": "code",
   "execution_count": 12,
   "id": "52e48eaa-99af-46e4-8420-b65e3c0c6984",
   "metadata": {},
   "outputs": [
    {
     "name": "stdout",
     "output_type": "stream",
     "text": [
      "Decision Tree Regressor:\n",
      "R²: 0.6833\n",
      "RMSE: 0.6443\n"
     ]
    }
   ],
   "source": [
    "# DECISION TREE REGRESSOR\n",
    "dt_r2 = r2_score(y_test, dt_y_pred)\n",
    "dt_rmse = np.sqrt(mean_squared_error(y_test, dt_y_pred))\n",
    "\n",
    "print(\"Decision Tree Regressor:\")\n",
    "print(f\"R²: {dt_r2:.4f}\")\n",
    "print(f\"RMSE: {dt_rmse:.4f}\")"
   ]
  }
 ],
 "metadata": {
  "kernelspec": {
   "display_name": "Python 3 (ipykernel)",
   "language": "python",
   "name": "python3"
  },
  "language_info": {
   "codemirror_mode": {
    "name": "ipython",
    "version": 3
   },
   "file_extension": ".py",
   "mimetype": "text/x-python",
   "name": "python",
   "nbconvert_exporter": "python",
   "pygments_lexer": "ipython3",
   "version": "3.11.5"
  }
 },
 "nbformat": 4,
 "nbformat_minor": 5
}
